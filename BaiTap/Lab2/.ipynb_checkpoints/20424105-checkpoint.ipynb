{
 "cells": [
  {
   "cell_type": "code",
   "execution_count": 1,
   "metadata": {},
   "outputs": [],
   "source": [
    "import numpy as np\n",
    "import random as rd\n",
    "import math\n",
    "import matplotlib.pyplot as plt"
   ]
  },
  {
   "cell_type": "markdown",
   "metadata": {},
   "source": [
    "<h2>MSSV: 20424105</h2>\n",
    "    <h2>Họ Tên: Nguyễn Thị Mến</h2>\n",
    "\n",
    "<h3>Đề: Xấp xỉ số pi bằng phương pháp Monte Carlo</h3>"
   ]
  },
  {
   "cell_type": "markdown",
   "metadata": {},
   "source": [
    "### Theo đề ta có:\n",
    "* #### Cạnh của hình vuông: d = 2 => r = 1.\n",
    "* #### Số kim trong hình tròn: Nc.\n",
    "* #### Số kim trong hình vuông: Ns.\n",
    "#### Với Lần lượt ta có As là diện tích hình vuông và Ac là diện tích hình tròn\n",
    "### As = 2 × 2 = 4\n",
    "### Ac = $\\pi r^2 = \\pi$\n",
    "### Phương pháp của Monte Carlo\n",
    "<h3><center> $\\frac{A_c}{A_s} = \\frac{N_c}{N_s} ⬄ A_c = A_s\\frac{N_c}{N_s} ⬄ \\pi = 4\\frac{N_c}{N_s}$</center></h3>"
   ]
  },
  {
   "cell_type": "markdown",
   "metadata": {},
   "source": [
    "- Theo Phương pháp Monte Carlo thì với việc tạo ra 1 hình vuông và 1 hình tròn càng lớn càng tốt, nằm bên trong nó sau đó ta rải ngẫu nhiên các kim vào bên trong hình vuông thì số $\\pi$ sắp xỉ bằng số kim trong hình tròn nhân 4 chia cho số kim trong hình vuông. Ta có công thức:"
   ]
  },
  {
   "cell_type": "markdown",
   "metadata": {},
   "source": [
    "<h3><center>$\\pi = \\frac{Số kim trong hình tròn}{Số kim trong hình vuông} = \\frac{n_c}{n_s}$</center></h3>"
   ]
  },
  {
   "cell_type": "markdown",
   "metadata": {},
   "source": [
    "- Để biết được kim đó có nằm trong hình tròn hay không, giả sử bán kính = 1, thì ta tính xem khoảng cách từ A đến B (kim) vừa mới rải có <= 1 hay không. Ở đây ta sử dụng định lý Pytago để kiểm tra.\n",
    "$$C = \\sqrt{A^2 + B^2}$$"
   ]
  },
  {
   "cell_type": "markdown",
   "metadata": {},
   "source": [
    "- Tiếp theo, ta cần tạo ra các điểm và rải ngẫu nhiên nó vào hình vuông. Theo như phương pháp Monte Carlo nếu số chấm càng nhiều thì khả năng xấp xỉ Pi càng lớn."
   ]
  },
  {
   "cell_type": "code",
   "execution_count": 2,
   "metadata": {},
   "outputs": [
    {
     "data": {
      "text/plain": [
       "[<matplotlib.lines.Line2D at 0x1c5cf0e0f70>]"
      ]
     },
     "execution_count": 2,
     "metadata": {},
     "output_type": "execute_result"
    },
    {
     "data": {
      "image/png": "[encoded data removed]",
      "text/plain": [
       "<Figure size 432x288 with 1 Axes>"
      ]
     },
     "metadata": {
      "needs_background": "light"
     },
     "output_type": "display_data"
    }
   ],
   "source": [
    "horiz = np.array(range(100))/100.0\n",
    "y_1 = np.ones(100)\n",
    "plt.plot(horiz , y_1, 'g')\n",
    "\n",
    "vert = np.array(range(100))/100.0\n",
    "x_1 = np.ones(100)\n",
    "plt.plot(x_1 , vert, 'g')"
   ]
  },
  {
   "cell_type": "code",
   "execution_count": 3,
   "metadata": {},
   "outputs": [],
   "source": [
    "#Tính kích thước đường kính\n",
    "def hypotenuse(a, b):\n",
    "  return math.sqrt(math.pow(a, 2) + math.pow(b, 2))"
   ]
  },
  {
   "cell_type": "code",
   "execution_count": 4,
   "metadata": {},
   "outputs": [],
   "source": [
    "def GetPointInCircel(a, b, r):\n",
    "    x_1 = (r - a) * - 1\n",
    "    y_1 = r - b\n",
    "    \n",
    "    x_2 = 0\n",
    "    y_2 = 0\n",
    "    \n",
    "    sin_anpha = y_1 / math.sqrt(math.pow(x_1, 2) + math.pow(y_1, 2))\n",
    "    y_2 = sin_anpha * r\n",
    "    x_2 = math.sqrt(math.pow(r, 2) - math.pow(y_2, 2))\n",
    "    \n",
    "    y_2 = r - y_2\n",
    "\n",
    "    if (x_1 > 0):\n",
    "        x_2 += r\n",
    "    else:\n",
    "        x_2 = r - x_2\n",
    "        \n",
    "    return x_2, y_2"
   ]
  },
  {
   "cell_type": "code",
   "execution_count": null,
   "metadata": {},
   "outputs": [],
   "source": [
    "inside = 0\n",
    "i = 1\n",
    "n = 10\n",
    "while True:\n",
    "    n = int(input(\"Nhập số Point (10 -> 10000): \"))\n",
    "    if(n >= 10 and n <= 10000):\n",
    "        break\n",
    "\n",
    "while (i<=n):\n",
    "    x = rd.random()\n",
    "    y = rd.random()\n",
    "    \n",
    "    #Kiểm tra xem tọa độ điểm có nằm trong đường tròn không\n",
    "    if hypotenuse(x, y) <= 1:\n",
    "        inside += 1\n",
    "        x, y = GetPointInCircel(x, y, 1)\n",
    "        plt.plot(x , y , label= \"stars\", color= \"green\", \n",
    "                            marker= \"*\")\n",
    "    else:\n",
    "        plt.plot(x , y , label= \"stars\", color= \"red\", \n",
    "                            marker= \"*\")\n",
    "    i += 1\n",
    "    \n",
    "pi = (4 * inside) / n\n",
    "print (\"Giá trị của Pi là:\")\n",
    "print(pi)\n",
    "plt.show()"
   ]
  }
 ],
 "metadata": {
  "kernelspec": {
   "display_name": "Python 3",
   "language": "python",
   "name": "python3"
  },
  "language_info": {
   "codemirror_mode": {
    "name": "ipython",
    "version": 3
   },
   "file_extension": ".py",
   "mimetype": "text/x-python",
   "name": "python",
   "nbconvert_exporter": "python",
   "pygments_lexer": "ipython3",
   "version": "3.8.5"
  }
 },
 "nbformat": 4,
 "nbformat_minor": 4
}
