{
 "cells": [
  {
   "cell_type": "code",
   "execution_count": 1,
   "metadata": {},
   "outputs": [],
   "source": [
    "import pandas as pd\n",
    "import numpy as np\n",
    "import matplotlib.pyplot as plt\n",
    "import random as rd\n",
    "import statistics as sta"
   ]
  },
  {
   "cell_type": "code",
   "execution_count": 2,
   "metadata": {},
   "outputs": [],
   "source": [
    "pd.set_option('display.max_columns', 20)\n",
    "dataSet  = pd.read_csv(\"temperatures.csv\", encoding='utf-8')\n",
    "\n",
    "# dataSet.info()"
   ]
  },
  {
   "cell_type": "code",
   "execution_count": 3,
   "metadata": {},
   "outputs": [
    {
     "data": {
      "text/html": [
       "<div>\n",
       "<style scoped>\n",
       "    .dataframe tbody tr th:only-of-type {\n",
       "        vertical-align: middle;\n",
       "    }\n",
       "\n",
       "    .dataframe tbody tr th {\n",
       "        vertical-align: top;\n",
       "    }\n",
       "\n",
       "    .dataframe thead th {\n",
       "        text-align: right;\n",
       "    }\n",
       "</style>\n",
       "<table border=\"1\" class=\"dataframe\">\n",
       "  <thead>\n",
       "    <tr style=\"text-align: right;\">\n",
       "      <th></th>\n",
       "      <th>CITY</th>\n",
       "      <th>TEMP</th>\n",
       "      <th>DATE</th>\n",
       "    </tr>\n",
       "  </thead>\n",
       "  <tbody>\n",
       "    <tr>\n",
       "      <th>0</th>\n",
       "      <td>SEATTLE</td>\n",
       "      <td>3.10</td>\n",
       "      <td>19610101</td>\n",
       "    </tr>\n",
       "    <tr>\n",
       "      <th>1</th>\n",
       "      <td>SEATTLE</td>\n",
       "      <td>0.55</td>\n",
       "      <td>19610102</td>\n",
       "    </tr>\n",
       "    <tr>\n",
       "      <th>2</th>\n",
       "      <td>SEATTLE</td>\n",
       "      <td>0.00</td>\n",
       "      <td>19610103</td>\n",
       "    </tr>\n",
       "    <tr>\n",
       "      <th>3</th>\n",
       "      <td>SEATTLE</td>\n",
       "      <td>4.45</td>\n",
       "      <td>19610104</td>\n",
       "    </tr>\n",
       "    <tr>\n",
       "      <th>4</th>\n",
       "      <td>SEATTLE</td>\n",
       "      <td>8.35</td>\n",
       "      <td>19610105</td>\n",
       "    </tr>\n",
       "    <tr>\n",
       "      <th>...</th>\n",
       "      <td>...</td>\n",
       "      <td>...</td>\n",
       "      <td>...</td>\n",
       "    </tr>\n",
       "    <tr>\n",
       "      <th>421843</th>\n",
       "      <td>CHICAGO</td>\n",
       "      <td>3.05</td>\n",
       "      <td>20151227</td>\n",
       "    </tr>\n",
       "    <tr>\n",
       "      <th>421844</th>\n",
       "      <td>CHICAGO</td>\n",
       "      <td>1.70</td>\n",
       "      <td>20151228</td>\n",
       "    </tr>\n",
       "    <tr>\n",
       "      <th>421845</th>\n",
       "      <td>CHICAGO</td>\n",
       "      <td>1.15</td>\n",
       "      <td>20151229</td>\n",
       "    </tr>\n",
       "    <tr>\n",
       "      <th>421846</th>\n",
       "      <td>CHICAGO</td>\n",
       "      <td>-2.15</td>\n",
       "      <td>20151230</td>\n",
       "    </tr>\n",
       "    <tr>\n",
       "      <th>421847</th>\n",
       "      <td>CHICAGO</td>\n",
       "      <td>-3.80</td>\n",
       "      <td>20151231</td>\n",
       "    </tr>\n",
       "  </tbody>\n",
       "</table>\n",
       "<p>421848 rows × 3 columns</p>\n",
       "</div>"
      ],
      "text/plain": [
       "           CITY  TEMP      DATE\n",
       "0       SEATTLE  3.10  19610101\n",
       "1       SEATTLE  0.55  19610102\n",
       "2       SEATTLE  0.00  19610103\n",
       "3       SEATTLE  4.45  19610104\n",
       "4       SEATTLE  8.35  19610105\n",
       "...         ...   ...       ...\n",
       "421843  CHICAGO  3.05  20151227\n",
       "421844  CHICAGO  1.70  20151228\n",
       "421845  CHICAGO  1.15  20151229\n",
       "421846  CHICAGO -2.15  20151230\n",
       "421847  CHICAGO -3.80  20151231\n",
       "\n",
       "[421848 rows x 3 columns]"
      ]
     },
     "execution_count": 3,
     "metadata": {},
     "output_type": "execute_result"
    }
   ],
   "source": [
    "dataSet"
   ]
  },
  {
   "cell_type": "code",
   "execution_count": 4,
   "metadata": {},
   "outputs": [
    {
     "data": {
      "text/plain": [
       "421848"
      ]
     },
     "execution_count": 4,
     "metadata": {},
     "output_type": "execute_result"
    }
   ],
   "source": [
    "temp = dataSet['TEMP'].tolist()\n",
    "# type(temp)\n",
    "len(temp)"
   ]
  },
  {
   "cell_type": "code",
   "execution_count": 5,
   "metadata": {},
   "outputs": [
    {
     "data": {
      "image/png": "[encoded data removed]",
      "text/plain": [
       "<Figure size 432x288 with 1 Axes>"
      ]
     },
     "metadata": {
      "needs_background": "light"
     },
     "output_type": "display_data"
    }
   ],
   "source": [
    "plt.hist(temp, bins=20)\n",
    "plt.show()"
   ]
  },
  {
   "cell_type": "code",
   "execution_count": 6,
   "metadata": {},
   "outputs": [],
   "source": [
    "# np.mean(rd.sample(temp, 100))\n",
    "# rd.choice(temp)"
   ]
  },
  {
   "cell_type": "markdown",
   "metadata": {},
   "source": [
    "Kích thước 100, số lượng 1000"
   ]
  },
  {
   "cell_type": "code",
   "execution_count": 7,
   "metadata": {},
   "outputs": [],
   "source": [
    "def sample(data,c):\n",
    "    return rd.sample(data, c)"
   ]
  },
  {
   "cell_type": "code",
   "execution_count": 8,
   "metadata": {},
   "outputs": [],
   "source": [
    "def mean(data):\n",
    "    return np.mean(data)"
   ]
  },
  {
   "cell_type": "code",
   "execution_count": 9,
   "metadata": {},
   "outputs": [],
   "source": [
    "def avgMau(data,n, m):\n",
    "    arr = []\n",
    "    for i in range(n):\n",
    "        arr.append(mean(sample(data, m)))\n",
    "    return arr"
   ]
  },
  {
   "cell_type": "code",
   "execution_count": 10,
   "metadata": {},
   "outputs": [],
   "source": [
    "arrAvg = avgMau(temp,1000,100)"
   ]
  },
  {
   "cell_type": "code",
   "execution_count": 11,
   "metadata": {},
   "outputs": [
    {
     "data": {
      "image/png": "[encoded data removed]",
      "text/plain": [
       "<Figure size 432x288 with 1 Axes>"
      ]
     },
     "metadata": {
      "needs_background": "light"
     },
     "output_type": "display_data"
    }
   ],
   "source": [
    " plt.hist(arrAvg)\n",
    " plt.show()"
   ]
  },
  {
   "cell_type": "code",
   "execution_count": 12,
   "metadata": {},
   "outputs": [],
   "source": [
    "arrAvg2 = avgMau(temp,1000,200)"
   ]
  },
  {
   "cell_type": "code",
   "execution_count": 13,
   "metadata": {},
   "outputs": [
    {
     "data": {
      "image/png": "[encoded data removed]",
      "text/plain": [
       "<Figure size 432x288 with 1 Axes>"
      ]
     },
     "metadata": {
      "needs_background": "light"
     },
     "output_type": "display_data"
    }
   ],
   "source": [
    " plt.hist(arrAvg2)\n",
    " plt.show()"
   ]
  },
  {
   "cell_type": "code",
   "execution_count": 14,
   "metadata": {},
   "outputs": [],
   "source": [
    "def measure(data):\n",
    "    mean_data = sta.mean(data) #giá trị trung bình\n",
    "    median_data = sta.median(data) #tính giá trị trung vị\n",
    "    mode_data = sta.mode(data) #giá trị có số lần xuất hiện nhiều nhất\n",
    "    variance_data = sta.variance(data) #phương sai đo độ lệch\n",
    "    stdev_data = sta.stdev(data) #độ lệch chuẩn\n",
    "    return mean_data, median_data, mode_data, variance_data, stdev_data"
   ]
  },
  {
   "cell_type": "code",
   "execution_count": 15,
   "metadata": {},
   "outputs": [],
   "source": [
    "mean_data, median_data, mode_data, variance_data, stdev_data = measure(arrAvg)"
   ]
  },
  {
   "cell_type": "code",
   "execution_count": 16,
   "metadata": {},
   "outputs": [
    {
     "name": "stdout",
     "output_type": "stream",
     "text": [
      "phương sai đo độ lệch: 0.8903006894484484%\n",
      "độ lệch chuẩn: 0.9435574648363757%\n"
     ]
    }
   ],
   "source": [
    "print(f'phương sai đo độ lệch: {variance_data}%')\n",
    "print(f'độ lệch chuẩn: {stdev_data}%')"
   ]
  },
  {
   "cell_type": "code",
   "execution_count": 17,
   "metadata": {},
   "outputs": [],
   "source": [
    "mean_data2, median_data2, mode_data2, variance_data2, stdev_data2 = measure(arrAvg2)"
   ]
  },
  {
   "cell_type": "code",
   "execution_count": 18,
   "metadata": {},
   "outputs": [
    {
     "name": "stdout",
     "output_type": "stream",
     "text": [
      "phương sai đo độ lệch: 0.4945880076724223%\n",
      "độ lệch chuẩn: 0.703269512827353%\n"
     ]
    }
   ],
   "source": [
    "print(f'phương sai đo độ lệch: {variance_data2}%')\n",
    "print(f'độ lệch chuẩn: {stdev_data2}%')"
   ]
  },
  {
   "cell_type": "code",
   "execution_count": 19,
   "metadata": {},
   "outputs": [],
   "source": [
    "# arrAvgT = avgMau(temp,1000,len(temp))"
   ]
  },
  {
   "cell_type": "code",
   "execution_count": 20,
   "metadata": {},
   "outputs": [],
   "source": [
    "# mean_datat, median_datat, mode_datat, variance_datat, stdev_datat = measure(temp)"
   ]
  },
  {
   "cell_type": "code",
   "execution_count": 21,
   "metadata": {},
   "outputs": [],
   "source": [
    "# print(f'phương sai đo độ lệch tổng thể: {variance_datat}%')\n",
    "# print(f'độ lệch chuẩn tổng thể: {stdev_datat}%')"
   ]
  },
  {
   "cell_type": "code",
   "execution_count": 22,
   "metadata": {},
   "outputs": [],
   "source": [
    "# t = variance_datat / len(temp)\n",
    "# print(f'phương sai đo độ lệch tb: {t}%')"
   ]
  },
  {
   "cell_type": "code",
   "execution_count": 23,
   "metadata": {},
   "outputs": [],
   "source": [
    "arrAvg6 = avgMau(temp,1000,600)"
   ]
  },
  {
   "cell_type": "code",
   "execution_count": 24,
   "metadata": {},
   "outputs": [],
   "source": [
    "mean_data6, median_data6, mode_data6, variance_data6, stdev_data6 = measure(arrAvg)"
   ]
  },
  {
   "cell_type": "code",
   "execution_count": 25,
   "metadata": {},
   "outputs": [
    {
     "name": "stdout",
     "output_type": "stream",
     "text": [
      "phương sai đo độ lệch: 0.8903006894484484%\n",
      "độ lệch chuẩn: 0.9435574648363757%\n"
     ]
    }
   ],
   "source": [
    "print(f'phương sai đo độ lệch: {variance_data6}%')\n",
    "print(f'độ lệch chuẩn: {stdev_data6}%')"
   ]
  },
  {
   "cell_type": "code",
   "execution_count": 26,
   "metadata": {},
   "outputs": [],
   "source": [
    "# arr = np.random.shuffle(temp)"
   ]
  },
  {
   "cell_type": "code",
   "execution_count": 27,
   "metadata": {},
   "outputs": [],
   "source": [
    "# print(arr)"
   ]
  },
  {
   "cell_type": "code",
   "execution_count": 28,
   "metadata": {},
   "outputs": [],
   "source": [
    "stds = []\n",
    "for i in range(100,600,100):\n",
    "    new_data = temp[:i]\n",
    "    s= np.std(new_data)\n",
    "    stds.append(s)"
   ]
  },
  {
   "cell_type": "code",
   "execution_count": 29,
   "metadata": {},
   "outputs": [
    {
     "data": {
      "text/plain": [
       "[2.6041061326297745,\n",
       " 5.508403829604362,\n",
       " 5.756219040211107,\n",
       " 6.285678041190147,\n",
       " 5.951791952009076]"
      ]
     },
     "execution_count": 29,
     "metadata": {},
     "output_type": "execute_result"
    }
   ],
   "source": [
    "stds"
   ]
  },
  {
   "cell_type": "code",
   "execution_count": 30,
   "metadata": {},
   "outputs": [
    {
     "name": "stdout",
     "output_type": "stream",
     "text": [
      "diff 0.7240699360679869\n",
      "diff 0.41633169177664764\n",
      "diff 0.3900732893063186\n",
      "diff 0.33397202132842996\n",
      "diff 0.36935046031728386\n"
     ]
    }
   ],
   "source": [
    "pop_std = np.std(temp)\n",
    "for st in stds:\n",
    "    print(\"diff\", (pop_std - st) / pop_std)"
   ]
  }
 ],
 "metadata": {
  "kernelspec": {
   "display_name": "Python 3",
   "language": "python",
   "name": "python3"
  },
  "language_info": {
   "codemirror_mode": {
    "name": "ipython",
    "version": 3
   },
   "file_extension": ".py",
   "mimetype": "text/x-python",
   "name": "python",
   "nbconvert_exporter": "python",
   "pygments_lexer": "ipython3",
   "version": "3.8.5"
  }
 },
 "nbformat": 4,
 "nbformat_minor": 4
}
