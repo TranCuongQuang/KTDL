{
 "cells": [
  {
   "cell_type": "code",
   "execution_count": 156,
   "metadata": {},
   "outputs": [],
   "source": [
    "import pandas as pd\n",
    "import numpy as np\n",
    "import matplotlib.pyplot as plt\n",
    "import random as rd\n",
    "import statistics as sta"
   ]
  },
  {
   "cell_type": "code",
   "execution_count": 157,
   "metadata": {},
   "outputs": [],
   "source": [
    "pd.set_option('display.max_columns', 20)\n",
    "dataSet  = pd.read_csv(\"temperatures.csv\", encoding='utf-8')\n",
    "\n",
    "# dataSet.info()"
   ]
  },
  {
   "cell_type": "code",
   "execution_count": 158,
   "metadata": {},
   "outputs": [
    {
     "data": {
      "text/html": [
       "<div>\n",
       "<style scoped>\n",
       "    .dataframe tbody tr th:only-of-type {\n",
       "        vertical-align: middle;\n",
       "    }\n",
       "\n",
       "    .dataframe tbody tr th {\n",
       "        vertical-align: top;\n",
       "    }\n",
       "\n",
       "    .dataframe thead th {\n",
       "        text-align: right;\n",
       "    }\n",
       "</style>\n",
       "<table border=\"1\" class=\"dataframe\">\n",
       "  <thead>\n",
       "    <tr style=\"text-align: right;\">\n",
       "      <th></th>\n",
       "      <th>CITY</th>\n",
       "      <th>TEMP</th>\n",
       "      <th>DATE</th>\n",
       "    </tr>\n",
       "  </thead>\n",
       "  <tbody>\n",
       "    <tr>\n",
       "      <th>0</th>\n",
       "      <td>SEATTLE</td>\n",
       "      <td>3.10</td>\n",
       "      <td>19610101</td>\n",
       "    </tr>\n",
       "    <tr>\n",
       "      <th>1</th>\n",
       "      <td>SEATTLE</td>\n",
       "      <td>0.55</td>\n",
       "      <td>19610102</td>\n",
       "    </tr>\n",
       "    <tr>\n",
       "      <th>2</th>\n",
       "      <td>SEATTLE</td>\n",
       "      <td>0.00</td>\n",
       "      <td>19610103</td>\n",
       "    </tr>\n",
       "    <tr>\n",
       "      <th>3</th>\n",
       "      <td>SEATTLE</td>\n",
       "      <td>4.45</td>\n",
       "      <td>19610104</td>\n",
       "    </tr>\n",
       "    <tr>\n",
       "      <th>4</th>\n",
       "      <td>SEATTLE</td>\n",
       "      <td>8.35</td>\n",
       "      <td>19610105</td>\n",
       "    </tr>\n",
       "    <tr>\n",
       "      <th>...</th>\n",
       "      <td>...</td>\n",
       "      <td>...</td>\n",
       "      <td>...</td>\n",
       "    </tr>\n",
       "    <tr>\n",
       "      <th>421843</th>\n",
       "      <td>CHICAGO</td>\n",
       "      <td>3.05</td>\n",
       "      <td>20151227</td>\n",
       "    </tr>\n",
       "    <tr>\n",
       "      <th>421844</th>\n",
       "      <td>CHICAGO</td>\n",
       "      <td>1.70</td>\n",
       "      <td>20151228</td>\n",
       "    </tr>\n",
       "    <tr>\n",
       "      <th>421845</th>\n",
       "      <td>CHICAGO</td>\n",
       "      <td>1.15</td>\n",
       "      <td>20151229</td>\n",
       "    </tr>\n",
       "    <tr>\n",
       "      <th>421846</th>\n",
       "      <td>CHICAGO</td>\n",
       "      <td>-2.15</td>\n",
       "      <td>20151230</td>\n",
       "    </tr>\n",
       "    <tr>\n",
       "      <th>421847</th>\n",
       "      <td>CHICAGO</td>\n",
       "      <td>-3.80</td>\n",
       "      <td>20151231</td>\n",
       "    </tr>\n",
       "  </tbody>\n",
       "</table>\n",
       "<p>421848 rows × 3 columns</p>\n",
       "</div>"
      ],
      "text/plain": [
       "           CITY  TEMP      DATE\n",
       "0       SEATTLE  3.10  19610101\n",
       "1       SEATTLE  0.55  19610102\n",
       "2       SEATTLE  0.00  19610103\n",
       "3       SEATTLE  4.45  19610104\n",
       "4       SEATTLE  8.35  19610105\n",
       "...         ...   ...       ...\n",
       "421843  CHICAGO  3.05  20151227\n",
       "421844  CHICAGO  1.70  20151228\n",
       "421845  CHICAGO  1.15  20151229\n",
       "421846  CHICAGO -2.15  20151230\n",
       "421847  CHICAGO -3.80  20151231\n",
       "\n",
       "[421848 rows x 3 columns]"
      ]
     },
     "execution_count": 158,
     "metadata": {},
     "output_type": "execute_result"
    }
   ],
   "source": [
    "dataSet"
   ]
  },
  {
   "cell_type": "code",
   "execution_count": 159,
   "metadata": {},
   "outputs": [],
   "source": [
    "temp = dataSet['TEMP'].tolist()\n",
    "# type(temp)"
   ]
  },
  {
   "cell_type": "code",
   "execution_count": 160,
   "metadata": {},
   "outputs": [
    {
     "data": {
      "image/png": "[encoded data removed]",
      "text/plain": [
       "<Figure size 432x288 with 1 Axes>"
      ]
     },
     "metadata": {
      "needs_background": "light"
     },
     "output_type": "display_data"
    }
   ],
   "source": [
    "plt.hist(temp, bins=20)\n",
    "plt.show()"
   ]
  },
  {
   "cell_type": "code",
   "execution_count": 161,
   "metadata": {},
   "outputs": [],
   "source": [
    "# np.mean(rd.sample(temp, 100))\n",
    "# rd.choice(temp)"
   ]
  },
  {
   "cell_type": "code",
   "execution_count": 162,
   "metadata": {},
   "outputs": [],
   "source": [
    "def sample(data,c):\n",
    "    return rd.sample(data, c)"
   ]
  },
  {
   "cell_type": "code",
   "execution_count": 163,
   "metadata": {},
   "outputs": [],
   "source": [
    "def mean(data):\n",
    "    return np.mean(data)"
   ]
  },
  {
   "cell_type": "code",
   "execution_count": 164,
   "metadata": {},
   "outputs": [],
   "source": [
    "def avgMau(n, m):\n",
    "    arr = []\n",
    "    for i in range(n):\n",
    "        arr.append(mean(sample(temp, m)))\n",
    "    return arr"
   ]
  },
  {
   "cell_type": "code",
   "execution_count": 165,
   "metadata": {},
   "outputs": [],
   "source": [
    "arrAvg = avgMau(1000,100)"
   ]
  },
  {
   "cell_type": "code",
   "execution_count": 166,
   "metadata": {},
   "outputs": [
    {
     "data": {
      "image/png": "[encoded data removed]",
      "text/plain": [
       "<Figure size 432x288 with 1 Axes>"
      ]
     },
     "metadata": {
      "needs_background": "light"
     },
     "output_type": "display_data"
    }
   ],
   "source": [
    "plt.hist(arrAvg)\n",
    "plt.show()"
   ]
  },
  {
   "cell_type": "code",
   "execution_count": 167,
   "metadata": {},
   "outputs": [],
   "source": [
    "arrAvg2 = avgMau(2000,200)"
   ]
  },
  {
   "cell_type": "code",
   "execution_count": 168,
   "metadata": {},
   "outputs": [
    {
     "data": {
      "image/png": "[encoded data removed]",
      "text/plain": [
       "<Figure size 432x288 with 1 Axes>"
      ]
     },
     "metadata": {
      "needs_background": "light"
     },
     "output_type": "display_data"
    }
   ],
   "source": [
    "plt.hist(arrAvg2)\n",
    "plt.show()"
   ]
  },
  {
   "cell_type": "code",
   "execution_count": 169,
   "metadata": {},
   "outputs": [],
   "source": [
    "def measure(data):\n",
    "    mean_data = sta.mean(data) #giá trị trung bình\n",
    "    median_data = sta.median(data) #tính giá trị trung\n",
    "    mode_data = sta.mode(data) #giá trị có số lần xuất hiện nhiều nhấ\n",
    "    variance_data = sta.variance(data) #phương sai đo độ lệch\n",
    "    stdev_data = sta.stdev(data) #độ lệch chuẩn\n",
    "    return mean_data, median_data, mode_data, variance_data, stdev_data"
   ]
  },
  {
   "cell_type": "code",
   "execution_count": 170,
   "metadata": {},
   "outputs": [],
   "source": [
    "mean_data, median_data, mode_data, variance_data, stdev_data = measure(arrAvg)"
   ]
  },
  {
   "cell_type": "code",
   "execution_count": 171,
   "metadata": {},
   "outputs": [
    {
     "name": "stdout",
     "output_type": "stream",
     "text": [
      "phương sai đo độ lệch: 0.8607017911421422%\n",
      "độ lệch chuẩn: 0.9277401528133522%\n"
     ]
    }
   ],
   "source": [
    "print(f'phương sai đo độ lệch: {variance_data}%')\n",
    "print(f'độ lệch chuẩn: {stdev_data}%')"
   ]
  },
  {
   "cell_type": "code",
   "execution_count": 172,
   "metadata": {},
   "outputs": [],
   "source": [
    "mean_data2, median_data2, mode_data2, variance_data2, stdev_data2 = measure(arrAvg2)"
   ]
  },
  {
   "cell_type": "code",
   "execution_count": 173,
   "metadata": {},
   "outputs": [
    {
     "name": "stdout",
     "output_type": "stream",
     "text": [
      "phương sai đo độ lệch: 0.4355546918753752%\n",
      "độ lệch chuẩn: 0.6599656747705711%\n"
     ]
    }
   ],
   "source": [
    "print(f'phương sai đo độ lệch: {variance_data2}%')\n",
    "print(f'độ lệch chuẩn: {stdev_data2}%')"
   ]
  }
 ],
 "metadata": {
  "kernelspec": {
   "display_name": "Python 3",
   "language": "python",
   "name": "python3"
  },
  "language_info": {
   "codemirror_mode": {
    "name": "ipython",
    "version": 3
   },
   "file_extension": ".py",
   "mimetype": "text/x-python",
   "name": "python",
   "nbconvert_exporter": "python",
   "pygments_lexer": "ipython3",
   "version": "3.8.5"
  }
 },
 "nbformat": 4,
 "nbformat_minor": 4
}
