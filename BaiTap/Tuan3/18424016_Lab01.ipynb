{
 "cells": [
  {
   "cell_type": "markdown",
   "metadata": {},
   "source": [
    "# TRẦN QUANG CƯỜNG - 18424016"
   ]
  },
  {
   "cell_type": "markdown",
   "metadata": {},
   "source": [
    "### Bài 1: Cho 5 con xúc xắc, lắc 1000 lần. Tính tỉ lệ ra mặt 1 cho cả 5 xúc xắc."
   ]
  },
  {
   "cell_type": "code",
   "execution_count": 133,
   "metadata": {},
   "outputs": [],
   "source": [
    "import pandas as pd\n",
    "import numpy as np\n",
    "import random as rd"
   ]
  },
  {
   "cell_type": "code",
   "execution_count": 134,
   "metadata": {},
   "outputs": [],
   "source": [
    "def KiemTraLaMatMotDiem():\n",
    "    return rd.randint(1, 6) == 1"
   ]
  },
  {
   "cell_type": "code",
   "execution_count": 135,
   "metadata": {},
   "outputs": [],
   "source": [
    "def TungXucXac():\n",
    "    for i in range(5):\n",
    "        if KiemTraLaMatMotDiem():\n",
    "            continue\n",
    "        return False\n",
    "    return True"
   ]
  },
  {
   "cell_type": "code",
   "execution_count": 136,
   "metadata": {},
   "outputs": [],
   "source": [
    "def TungNLanXucXac(n):\n",
    "    dem = 0\n",
    "    for i in range(n):\n",
    "        if TungXucXac():\n",
    "            dem += 1\n",
    "    return dem/n"
   ]
  },
  {
   "cell_type": "code",
   "execution_count": 137,
   "metadata": {
    "scrolled": true
   },
   "outputs": [
    {
     "name": "stdout",
     "output_type": "stream",
     "text": [
      "Tỉ lệ tung 5 con xúc xắc đều là mặt 1: 0.001%\n"
     ]
    }
   ],
   "source": [
    "soLan = 1000\n",
    "\n",
    "print(f'Tỉ lệ tung 5 con xúc xắc đều là mặt 1: {TungNLanXucXac(soLan)}%')"
   ]
  },
  {
   "cell_type": "markdown",
   "metadata": {},
   "source": [
    "### Bài 2: Lab 01 - Tiền xử lý dữ liệu"
   ]
  },
  {
   "cell_type": "code",
   "execution_count": 138,
   "metadata": {},
   "outputs": [],
   "source": [
    "# Đọc file\n",
    "pd.set_option('display.max_columns', 20)\n",
    "dataSet  = pd.read_csv(\"train.csv\", encoding='utf-8')"
   ]
  },
  {
   "cell_type": "code",
   "execution_count": 139,
   "metadata": {},
   "outputs": [],
   "source": [
    "# dataSet.info()"
   ]
  },
  {
   "cell_type": "code",
   "execution_count": null,
   "metadata": {},
   "outputs": [],
   "source": [
    "# Lấy dữ liệu là số và thống kê\n",
    "dataSet.describe()"
   ]
  },
  {
   "cell_type": "code",
   "execution_count": null,
   "metadata": {},
   "outputs": [],
   "source": [
    "# Đọc dữ liệu theo phương pháp đánh chỉ số theo số nguyên \n",
    "dataSet.iloc[1:10]"
   ]
  },
  {
   "cell_type": "markdown",
   "metadata": {},
   "source": [
    "Theo dữ liệu ta thấy các đặc trưng PassengerId, Ticket, Cabin, Name sẽ không ảnh hưởng đến việc phân tích dữ liệu xác định sự sống chết, nên có thể xóa đi để làm gọn dữ liệu"
   ]
  },
  {
   "cell_type": "code",
   "execution_count": null,
   "metadata": {},
   "outputs": [],
   "source": [
    "dataSet.drop(['PassengerId', 'Ticket', 'Cabin', 'Name'], axis = 1, inplace = True)"
   ]
  },
  {
   "cell_type": "markdown",
   "metadata": {},
   "source": [
    "Xem lại dữ liệu sau khi xóa đi 4 đặc trưng"
   ]
  },
  {
   "cell_type": "code",
   "execution_count": null,
   "metadata": {},
   "outputs": [],
   "source": [
    "# Đọc dữ liệu theo phương pháp đánh chỉ số theo số nguyên \n",
    "dataSet.iloc[1:10]"
   ]
  },
  {
   "cell_type": "markdown",
   "metadata": {},
   "source": [
    "Kiểm tra dữ liệu bị khuyết "
   ]
  },
  {
   "cell_type": "code",
   "execution_count": null,
   "metadata": {},
   "outputs": [],
   "source": [
    "print('----------------------- Dữ liệu NULL -----------------------')\n",
    "print((dataSet[['Survived', 'Pclass', 'Sex', 'Age', 'SibSp', 'Parch', 'Fare', 'Embarked']].isnull()).sum())\n",
    "print('----------------------- Dữ liệu bằng 0 ---------------------')\n",
    "print((dataSet[['Survived', 'Pclass', 'Sex', 'Age', 'SibSp', 'Parch', 'Fare', 'Embarked']] == 0).sum())"
   ]
  },
  {
   "cell_type": "markdown",
   "metadata": {},
   "source": [
    "Điền dữ liệu khuyết vào đặc trưng"
   ]
  },
  {
   "cell_type": "code",
   "execution_count": null,
   "metadata": {},
   "outputs": [],
   "source": [
    "dataSet['Age'].fillna(dataSet['Age'].median(), inplace = True)\n",
    "dataSet['Embarked'].fillna(dataSet['Embarked'].mode()[0], inplace = True)\n",
    "dataSet['Fare'].fillna(dataSet['Fare'].median(), inplace = True)"
   ]
  },
  {
   "cell_type": "markdown",
   "metadata": {},
   "source": [
    "Xem lại dữ liệu sau khi điền dữ liệu khuyết vào 3 đặc trưng"
   ]
  },
  {
   "cell_type": "code",
   "execution_count": null,
   "metadata": {},
   "outputs": [],
   "source": [
    "# Đọc dữ liệu theo phương pháp đánh chỉ số theo số nguyên \n",
    "dataSet.iloc[1:10]"
   ]
  },
  {
   "cell_type": "code",
   "execution_count": null,
   "metadata": {},
   "outputs": [],
   "source": [
    "# dataSet.info()"
   ]
  },
  {
   "cell_type": "markdown",
   "metadata": {},
   "source": [
    "Ta quan tâm đến 2 đặc trưng Sex, Embarked kiểu dữ liệu là object. Ta sẽ sử dụng kiểu mã hóa dán nhãn (LabelEncoder)"
   ]
  },
  {
   "cell_type": "code",
   "execution_count": null,
   "metadata": {},
   "outputs": [],
   "source": [
    "from sklearn.preprocessing import LabelEncoder, OneHotEncoder\n",
    "\n",
    "# Sex\n",
    "sex_le = LabelEncoder() \n",
    "dataSet['Sex_Label']= sex_le.fit_transform(dataSet['Sex'].astype(str)) \n",
    "\n",
    "# Embarked\n",
    "emb_le = LabelEncoder()\n",
    "dataSet['Embarked_Label'] = emb_le.fit_transform(dataSet['Embarked'].astype(str))\n",
    "\n",
    "# dataSet.info()"
   ]
  },
  {
   "cell_type": "code",
   "execution_count": null,
   "metadata": {},
   "outputs": [],
   "source": [
    "dataSet.iloc[1:10]"
   ]
  },
  {
   "cell_type": "markdown",
   "metadata": {},
   "source": [
    "Tiếp theo ta sẽ mã One-Hot (OneHotEncoder) cho đặc trưng Sex, Embarked"
   ]
  },
  {
   "cell_type": "code",
   "execution_count": null,
   "metadata": {},
   "outputs": [],
   "source": [
    "#Sex\n",
    "sex_ohe = OneHotEncoder()\n",
    "sex_feature_arr = sex_ohe.fit_transform( dataSet[['Sex_Label']]).toarray()\n",
    "sex_feature_labels = ['Sex_' + str(cls_label) for cls_label in sex_le.classes_]\n",
    "sex_features = pd.DataFrame(sex_feature_arr,  columns = sex_feature_labels)\n",
    "\n",
    "#Embarked\n",
    "emb_ohe = OneHotEncoder()\n",
    "emb_feature_arr = emb_ohe.fit_transform( dataSet[['Embarked_Label']]).toarray()\n",
    "emb_feature_labels = ['Embarked_' + str(cls_label) for cls_label in emb_le.classes_]\n",
    "emb_features = pd.DataFrame(emb_feature_arr,  columns = emb_feature_labels)"
   ]
  },
  {
   "cell_type": "code",
   "execution_count": null,
   "metadata": {},
   "outputs": [],
   "source": [
    "dataSet = pd.concat([dataSet,emb_features, sex_features], axis=1)\n",
    "# dataSet.info()"
   ]
  },
  {
   "cell_type": "code",
   "execution_count": null,
   "metadata": {},
   "outputs": [],
   "source": [
    "dataSet.iloc[1:10]"
   ]
  },
  {
   "cell_type": "markdown",
   "metadata": {},
   "source": [
    "Cuối cùng xóa đi các đặc trưng Sex, Sex_Label, Embarked, Embarked_Label và hoàn thành việc xử lý dữ liệu"
   ]
  },
  {
   "cell_type": "code",
   "execution_count": null,
   "metadata": {},
   "outputs": [],
   "source": [
    "dataSet.drop(['Sex', 'Sex_Label', 'Embarked', 'Embarked_Label'], axis = 1, inplace = True)\n",
    "# dataSet.info()"
   ]
  },
  {
   "cell_type": "code",
   "execution_count": null,
   "metadata": {},
   "outputs": [],
   "source": [
    "dataSet.iloc[1:10]"
   ]
  }
 ],
 "metadata": {
  "kernelspec": {
   "display_name": "Python 3",
   "language": "python",
   "name": "python3"
  },
  "language_info": {
   "codemirror_mode": {
    "name": "ipython",
    "version": 3
   },
   "file_extension": ".py",
   "mimetype": "text/x-python",
   "name": "python",
   "nbconvert_exporter": "python",
   "pygments_lexer": "ipython3",
   "version": "3.8.5"
  }
 },
 "nbformat": 4,
 "nbformat_minor": 4
}
